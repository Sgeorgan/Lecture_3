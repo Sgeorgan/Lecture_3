{
 "cells": [
  {
   "cell_type": "markdown",
   "metadata": {},
   "source": [
    "#  Writing readable code\n"
   ]
  },
  {
   "cell_type": "markdown",
   "metadata": {},
   "source": [
    "## The PEP 8 Style Guide\n",
    "\n",
    "```{epigraph}\n",
    "Readability counts.\n",
    "\n",
    "-- [The Zen of Python](https://www.python.org/dev/peps/pep-0020/)\n",
    "```\n",
    "\n",
    "[The PEP 8 Style Guide for Python Code](https://www.python.org/dev/peps/pep-0008/) gives coding conventions that help us write code that is readable (by humans!) and consistent with code written by others.\n",
    "\n",
    "PEP 8 goes far beyond the scope of what we have learned so far during this course, and we recommend that you re-visit the guidelines every now and then when learning new things. Here, we will summarize some highlights that you can start applying to your code right away!\n",
    "\n",
    "- [Maximum line length](#Maximum-line-length)\n",
    "- [Indentation](#Indentation)\n",
    "- [Whitespace and binary operators](#Whitespace-and-binary-operators)\n",
    "- [Avoid extraneous whitespace](#Avoid-extraneous-whitespace)\n",
    "- [Write one statement per line](#Write-one-statement-per-line)"
   ]
  },
  {
   "cell_type": "markdown",
   "metadata": {},
   "source": [
    "### Maximum line length\n",
    "\n",
    "PEP 8 guides us to limit all lines to [79 characters max](https://www.python.org/dev/peps/pep-0008/#maximum-line-length). Comments (multi-line or single line) should be limited to 72 characters.\n",
    "\n",
    "```{note}\n",
    "We use a line length limit of 88 characters on this website. The character limit according to PEP 8 is 79 characters, but often a slightly longer line (up to 90 characters) helps with readability.\n",
    "```\n",
    "\n",
    "One of the guiding principles of Python is that [Simple is better than complex](https://www.python.org/dev/peps/pep-0020/#id3), but sometimes you might end up having a line of code that exceeds 79 characters, for example, when defining lists. \n",
    "\n",
    "Python is able to interpret the code correctly from multiple lines within parentheses, brackets and braces."
   ]
  },
  {
   "cell_type": "code",
   "execution_count": null,
   "metadata": {},
   "outputs": [],
   "source": [
    "# Implicit line continuation inside brackets\n",
    "\n",
    "us_cities = [\"Detroit\", \"Chicago\", \"Denver\", \"Boston\", \n",
    "            \"Portland\", \"San Francisco\", \"Houston\", \"Orlando\"]"
   ]
  },
  {
   "cell_type": "markdown",
   "metadata": {},
   "source": [
    "```{note}\n",
    "The backslash character (`\\`) might be required to break a line when using more complicated statements such as the `with` statement (not covered during this course). You can find more examples in the [PEP 8 documentation](https://www.python.org/dev/peps/pep-0008/#maximum-line-length).\n",
    "```"
   ]
  },
  {
   "cell_type": "markdown",
   "metadata": {},
   "source": [
    "### Indentation\n",
    "\n",
    "Indentation is an essential part of the Python code layout. As we already learned, for loops and conditional statements will not work correctly without consistent indentation. PEP 8 advices us to use [4 spaces per indentation level](https://www.python.org/dev/peps/pep-0008/#indentation). \n",
    "\n",
    "Let's have a look at an example with `if` statements. The indented line tells Python what to do *if* the condition is `True`. Notice the 4 spaces in the indentation."
   ]
  },
  {
   "cell_type": "code",
   "execution_count": 1,
   "metadata": {},
   "outputs": [
    {
     "name": "stdout",
     "output_type": "stream",
     "text": [
      "Just stay at home\n"
     ]
    }
   ],
   "source": [
    "weather = \"Rain\"\n",
    "wind = \"Windy\"\n",
    "\n",
    "if (weather == \"Rain\") and (wind == \"Windy\"):\n",
    "    print('Just stay at home')"
   ]
  },
  {
   "cell_type": "markdown",
   "metadata": {},
   "source": [
    "Following PEP 8, it is also possible to break the conditional expression into multiple lines if needed. Notice the extra parentheses."
   ]
  },
  {
   "cell_type": "code",
   "execution_count": 2,
   "metadata": {},
   "outputs": [
    {
     "name": "stdout",
     "output_type": "stream",
     "text": [
      "Just stay at home\n"
     ]
    }
   ],
   "source": [
    "if ((weather == \"Rain\") \n",
    "    and (wind == \"Windy\")):\n",
    "    print(\"Just stay at home\")"
   ]
  },
  {
   "cell_type": "markdown",
   "metadata": {},
   "source": [
    "To increase readability of this if statement, we could add extra indetation to the continuation line of the conditional statement."
   ]
  },
  {
   "cell_type": "code",
   "execution_count": null,
   "metadata": {},
   "outputs": [],
   "source": [
    "if ((weather == \"Rain\") \n",
    "        and (wind == \"Windy\")):\n",
    "    print(\"Just stay at home\")"
   ]
  },
  {
   "cell_type": "markdown",
   "metadata": {},
   "source": [
    "In our case, the first option with the conditional expression on a single line is probably best, as it is not that long after all.\n",
    "\n",
    "In addition, indentation is needed when breaking one command into multiple lines, such as in our example with the list `us_cities` above. In that case we used the implied line continuation inside the brackets. Following the PEP 8 indentation guidelines, we can define `us_cities` also using a [hanging indent](https://www.python.org/dev/peps/pep-0008/#fn-hi). Note that there is no value on the first line of a list formatted this way."
   ]
  },
  {
   "cell_type": "code",
   "execution_count": null,
   "metadata": {},
   "outputs": [],
   "source": [
    "# Hanging indentation:\n",
    "us_cities = [\n",
    "    \"Detroit\", \"Chicago\", \"Denver\", \"Boston\", \n",
    "    \"Portland\", \"San Francisco\", \"Houston\", \"Orlando\"]"
   ]
  },
  {
   "cell_type": "markdown",
   "metadata": {},
   "source": [
    "We will discuss more about indentation during week 4 when defining functions :)."
   ]
  },
  {
   "cell_type": "markdown",
   "metadata": {},
   "source": [
    "\n",
    "### Whitespace and binary operators\n",
    "\n",
    "According to PEP 8 we should [surround binary operators with single space on either side](https://www.python.org/dev/peps/pep-0008/#other-recommendations).\n",
    "\n",
    "We should do this always with:\n",
    "\n",
    "- assignment (`=`)\n",
    "- augmented assignment (`+=`, `-=` etc.)\n",
    "- comparisons (`==`, `<`, `>`, `!=`, `<>`, `<=`, `>=`, `in`, `not in`, `is`, `is not`)\n",
    "- booleans (`and`, `or`, `not`)"
   ]
  },
  {
   "cell_type": "code",
   "execution_count": null,
   "metadata": {
    "jupyter": {
     "outputs_hidden": false
    }
   },
   "outputs": [],
   "source": [
    "# yes\n",
    "i = 1\n",
    "i = i + 1\n",
    "i += 1"
   ]
  },
  {
   "cell_type": "code",
   "execution_count": null,
   "metadata": {},
   "outputs": [],
   "source": [
    "# no\n",
    "i=1\n",
    "i=i+1\n",
    "i +=1"
   ]
  },
  {
   "cell_type": "markdown",
   "metadata": {},
   "source": [
    "If using operators with different priorities, you can also do this."
   ]
  },
  {
   "cell_type": "code",
   "execution_count": null,
   "metadata": {
    "jupyter": {
     "outputs_hidden": false
    }
   },
   "outputs": [],
   "source": [
    "# yes\n",
    "a = 1\n",
    "b = 2\n",
    "c = (a+b) * (a-b)"
   ]
  },
  {
   "cell_type": "markdown",
   "metadata": {},
   "source": [
    "### Avoid extraneous whitespace\n",
    "We should also [avoid having a space between the function name and parentheses when calling a function](https://www.python.org/dev/peps/pep-0008/#whitespace-in-expressions-and-statements)."
   ]
  },
  {
   "cell_type": "code",
   "execution_count": 3,
   "metadata": {
    "jupyter": {
     "outputs_hidden": false
    }
   },
   "outputs": [
    {
     "name": "stdout",
     "output_type": "stream",
     "text": [
      "Hello\n"
     ]
    }
   ],
   "source": [
    "# yes\n",
    "print(\"Hello\")"
   ]
  },
  {
   "cell_type": "code",
   "execution_count": 4,
   "metadata": {
    "jupyter": {
     "outputs_hidden": false
    }
   },
   "outputs": [
    {
     "name": "stdout",
     "output_type": "stream",
     "text": [
      "Hello\n"
     ]
    }
   ],
   "source": [
    "# no\n",
    "print (\"Hello\")"
   ]
  },
  {
   "cell_type": "markdown",
   "metadata": {},
   "source": [
    "### Write one statement per line    \n",
    "\n",
    "For readability it is advised to [avoid writing multiple statements on the same line](https://www.python.org/dev/peps/pep-0008/#other-recommendations)."
   ]
  },
  {
   "cell_type": "code",
   "execution_count": null,
   "metadata": {
    "jupyter": {
     "outputs_hidden": false
    }
   },
   "outputs": [],
   "source": [
    "# yes\n",
    "print(\"Hello\")\n",
    "print(\"world\")"
   ]
  },
  {
   "cell_type": "code",
   "execution_count": null,
   "metadata": {
    "jupyter": {
     "outputs_hidden": false
    }
   },
   "outputs": [],
   "source": [
    "# no\n",
    "print(\"Hello\"); print(\"world\")"
   ]
  },
  {
   "cell_type": "code",
   "execution_count": null,
   "metadata": {},
   "outputs": [],
   "source": [
    "# yes\n",
    "temperature = 17\n",
    "if temperature > 25: \n",
    "    print(f\"{temperature} is greater than 25\")"
   ]
  },
  {
   "cell_type": "code",
   "execution_count": 3,
   "metadata": {
    "jupyter": {
     "outputs_hidden": false
    }
   },
   "outputs": [],
   "source": [
    "# no\n",
    "temperature = 17\n",
    "if temperature > 25: print(f\"{temperature} is greater than 25\")"
   ]
  },
  {
   "cell_type": "markdown",
   "metadata": {},
   "source": [
    "### Code readability versus code length?\n",
    "\n",
    "You often have to find a balance between code readability and code length when writing efficient and readable code. [Compound statements](https://docs.python.org/3/reference/compound_stmts.html#compound-statements) are a way of writing multiple statements on the same line to make the code shorter, but perhaps they are also more difficult to read. Thus, [PEP 8 recommends avoiding compound statements in general](https://www.python.org/dev/peps/pep-0008/#other-recommendations). However, sometimes squeezing multiple statements might your best option - you you just have to judge for yourself which option makes the code more readable and use for that."
   ]
  },
  {
   "cell_type": "markdown",
   "metadata": {},
   "source": [
    "```{admonition} Embracing List Comprehensions\n",
    "While our guidelines advocate clarity, list comprehensions occasionally present a conundrum. [List comprehensions](https://docs.python.org/3/tutorial/datastructures.html#list-comprehensions) offer a succinct method to sculpt lists. Though we won't delve deep into them in this course, a cursory glance at the [Python documentation](https://docs.python.org/3/tutorial/datastructures.html) provides an essence. Their utility lies in enhancing code brevity and legibility, but misuse can lead to protracted, hard-to-decipher lines.\n",
    "\n",
    "**Option A**: Using a traditional for loop, this approach iterates over a range, computes squares, and aggregates them to a list:\n",
    "\n",
    "\n",
    "squares = []\n",
    "for x in range(10):\n",
    "    squares.append(x**2)\n",
    "\n",
    "\n",
    "**Option B**: A concise rendition using list comprehension to square values:\n",
    "\n",
    "\n",
    "squares = [x**2 for x in range(10)]\n",
    "\n",
    "\n",
    "Both strategies have their merits. The choice boils down to which resonates more with your readability ethos.\n"
   ]
  },
  {
   "cell_type": "code",
   "execution_count": null,
   "metadata": {},
   "outputs": [],
   "source": []
  }
 ],
 "metadata": {
  "anaconda-cloud": {},
  "kernelspec": {
   "display_name": "Python 3 (ipykernel)",
   "language": "python",
   "name": "python3"
  },
  "language_info": {
   "codemirror_mode": {
    "name": "ipython",
    "version": 3
   },
   "file_extension": ".py",
   "mimetype": "text/x-python",
   "name": "python",
   "nbconvert_exporter": "python",
   "pygments_lexer": "ipython3",
   "version": "3.11.4"
  }
 },
 "nbformat": 4,
 "nbformat_minor": 4
}
