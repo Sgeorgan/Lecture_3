{
  "cells": [
    {
      "cell_type": "markdown",
      "metadata": {
        "id": "TmtAc6MF_-DC"
      },
      "source": [
        "# For loops\n",
        "\n",
        "\n",
        "This lesson is inspired by the [Programming in Python lessons](http://swcarpentry.github.io/python-novice-inflammation/) from the [Software Carpentry organization](http://software-carpentry.org) and has adapted or reused material from University of Helsinki Geo-python course (https://geo-python-site.readthedocs.io/en/latest/course-info/licensing.html ) under a Creative Commons Attribution-ShareAlike 4.0 International licence."
      ]
    },
    {
      "cell_type": "markdown",
      "metadata": {
        "id": "8i43ngSa_-DD"
      },
      "source": [
        "## Basics of for loops\n",
        "Loops allow us to repeatitively perform computations only using short lines of code, using certain parameters and/or conditions.\n",
        "\n",
        "### A (bad) example\n",
        "\n",
        "Let’s consider an example using the list below:"
      ]
    },
    {
      "cell_type": "code",
      "execution_count": null,
      "metadata": {
        "id": "agxECbcp_-DE"
      },
      "outputs": [],
      "source": [
        "swedish_cities = [\"Karlstad\", \"Stockholm\", \"Gothenberg\", \"Uppsala\"]"
      ]
    },
    {
      "cell_type": "markdown",
      "metadata": {
        "id": "Wlg4vDi7_-DE"
      },
      "source": [
        "Suppose we want to check the name of each city in our list. We could use the index value for each city and do the following:"
      ]
    },
    {
      "cell_type": "code",
      "execution_count": null,
      "metadata": {
        "id": "qbzTPvQO_-DF"
      },
      "outputs": [],
      "source": [
        "swedish_cities[0]"
      ]
    },
    {
      "cell_type": "code",
      "execution_count": null,
      "metadata": {
        "id": "CY-ycif0_-DF"
      },
      "outputs": [],
      "source": [
        "swedish_cities[1]"
      ]
    },
    {
      "cell_type": "code",
      "execution_count": null,
      "metadata": {
        "id": "6ULNdpU6_-DF"
      },
      "outputs": [],
      "source": [
        "swedish_cities[2]"
      ]
    },
    {
      "cell_type": "code",
      "execution_count": null,
      "metadata": {
        "id": "qMRbWwgj_-DF"
      },
      "outputs": [],
      "source": [
        "swedish_cities[3]"
      ]
    },
    {
      "cell_type": "markdown",
      "metadata": {
        "id": "H_8NYmlI_-DF"
      },
      "source": [
        "But this is a bad idea. Why? Well there are two reasons:\n",
        "\n",
        "1. It does not scale nicely for long lists, and will take forever to type in.\n",
        "2. It won’t work if the length of the list has fewer than 4 cities.\n",
        "\n",
        "Let's see an example with a new list."
      ]
    },
    {
      "cell_type": "code",
      "execution_count": null,
      "metadata": {
        "id": "HQBJ3wEj_-DG"
      },
      "outputs": [],
      "source": [
        "swedish_cities = [\"Malmo\", \"Helsinborg\", \"Mariestad\"]"
      ]
    },
    {
      "cell_type": "code",
      "execution_count": null,
      "metadata": {
        "id": "iRj9NLQo_-DG"
      },
      "outputs": [],
      "source": [
        "swedish_cities[0]"
      ]
    },
    {
      "cell_type": "code",
      "execution_count": null,
      "metadata": {
        "id": "DtR4K7qX_-DG"
      },
      "outputs": [],
      "source": [
        "swedish_cities[1]"
      ]
    },
    {
      "cell_type": "code",
      "execution_count": null,
      "metadata": {
        "id": "jrBdjmAY_-DG"
      },
      "outputs": [],
      "source": [
        "swedish_cities[2]"
      ]
    },
    {
      "cell_type": "code",
      "execution_count": null,
      "metadata": {
        "tags": [
          "raises-exception"
        ],
        "id": "Zrkdmsst_-DG"
      },
      "outputs": [],
      "source": [
        "swedish_cities[3]"
      ]
    },
    {
      "cell_type": "markdown",
      "metadata": {
        "id": "noAkaUfN_-DH"
      },
      "source": [
        "Here we encounter an `IndexError` because we have tried to access a value outside the range of values in the updated swedish_cities` list."
      ]
    },
    {
      "cell_type": "markdown",
      "metadata": {
        "id": "ibFVjOv__-DH"
      },
      "source": [
        "### Introducing the for loop\n",
        "\n",
        "We could do a much better job using a `for` loop."
      ]
    },
    {
      "cell_type": "code",
      "execution_count": null,
      "metadata": {
        "id": "Cmg3VK8X_-DI"
      },
      "outputs": [],
      "source": [
        "swedish_cities = [\"Karlstad\", \"Stockholm\", \"Gothenberg\", \"Uppsala\"]"
      ]
    },
    {
      "cell_type": "code",
      "execution_count": null,
      "metadata": {
        "id": "RdeDQkT0_-DI"
      },
      "outputs": [],
      "source": [
        "for city in swedish_cities:\n",
        "    print(city)"
      ]
    },
    {
      "cell_type": "markdown",
      "metadata": {
        "id": "Fr2VhyrP_-DI"
      },
      "source": [
        "Not only is this shorter, but it is also more flexible.\n",
        "Let's try printing out a different list of cities such as `['Detroit', 'Chicago', 'Denver', 'Boston', 'Portland', 'San Francisco', 'Houston', 'Orlando']`.\n",
        "Still works, right?"
      ]
    },
    {
      "cell_type": "code",
      "execution_count": null,
      "metadata": {
        "id": "4EdJglQf_-DI"
      },
      "outputs": [],
      "source": [
        "us_cities = [\n",
        "    \"Detroit\",\n",
        "    \"Chicago\",\n",
        "    \"Denver\",\n",
        "    \"Boston\",\n",
        "    \"Portland\",\n",
        "    \"San Francisco\",\n",
        "    \"Houston\",\n",
        "    \"Orlando\",\n",
        "]"
      ]
    },
    {
      "cell_type": "code",
      "execution_count": null,
      "metadata": {
        "id": "Astpifkz_-DJ"
      },
      "outputs": [],
      "source": [
        "for city in us_cities:\n",
        "    print(city)"
      ]
    },
    {
      "cell_type": "markdown",
      "metadata": {
        "id": "BXor48DF_-DJ"
      },
      "source": [
        "### for loop format\n",
        "\n",
        "`for` loops in Python have the general form below.\n",
        "\n",
        "```python\n",
        "for variable in collection:\n",
        "    do things with variable\n",
        "```\n",
        "\n",
        "Let's break down the code above to see some essential aspects of `for` loops:\n",
        "\n",
        "1. The `variable` can be any name you like other than a [reserved keyword](https://docs.python.org/3/reference/lexical_analysis.html#keywords)\n",
        "2. The statement of the `for` loop must end with a `:`\n",
        "3. The code that should be executed as part of the loop must be indented beneath the `for` loop statement\n",
        "\n",
        "    - The typical indentation is 4 spaces\n",
        "\n",
        "4. There is no additional special word needed to end the loop, you simply change the indentation back to normal.\n",
        "\n",
        "```{hint}\n",
        "`for` loops are useful to repeat some part of the code a *finite* number of times.\n",
        "```"
      ]
    },
    {
      "cell_type": "markdown",
      "metadata": {
        "id": "ne_H1zpy_-DJ"
      },
      "source": [
        "### for loop variables\n",
        "\n",
        "Note that the variable used in a `for` loop is just a normal variable and still exists after the loop has completed with the final value given to letter. Let's loop over the list of weather conditions below and print them to the screen. If you use `weather` for the loop variable, what is its value after the `for` loop has completed?"
      ]
    },
    {
      "cell_type": "code",
      "execution_count": 2,
      "metadata": {
        "id": "tcwaoUoE_-DJ"
      },
      "outputs": [],
      "source": [
        "weather_conditions = [\n",
        "    \"rain\",\n",
        "    \"sleet\",\n",
        "    \"snow\",\n",
        "    \"freezing fog\",\n",
        "    \"sunny\",\n",
        "    \"cloudy\",\n",
        "    \"ice pellets\",\n",
        "]"
      ]
    },
    {
      "cell_type": "code",
      "execution_count": 3,
      "metadata": {
        "id": "Q49z32xR_-DJ",
        "outputId": "33a69500-c8b8-4b74-b6bf-7d50fec247c7",
        "colab": {
          "base_uri": "https://localhost:8080/"
        }
      },
      "outputs": [
        {
          "output_type": "stream",
          "name": "stdout",
          "text": [
            "rain\n",
            "sleet\n",
            "snow\n",
            "freezing fog\n",
            "sunny\n",
            "cloudy\n",
            "ice pellets\n"
          ]
        }
      ],
      "source": [
        "for weather in weather_conditions:\n",
        "    print(weather)"
      ]
    },
    {
      "cell_type": "code",
      "execution_count": 4,
      "metadata": {
        "id": "An6JuCxZ_-DJ",
        "outputId": "0bb21324-fd1d-45df-8171-ca4151c383ae",
        "colab": {
          "base_uri": "https://localhost:8080/"
        }
      },
      "outputs": [
        {
          "output_type": "stream",
          "name": "stdout",
          "text": [
            "After the loop, weather is ice pellets\n"
          ]
        }
      ],
      "source": [
        "print(f\"After the loop, weather is {weather}\")"
      ]
    },
    {
      "cell_type": "markdown",
      "metadata": {
        "id": "NV9tY8ul_-DJ"
      },
      "source": [
        "### for loops and the range() function\n",
        "\n",
        "A loop can be used to iterate over any collection of values in Python.\n",
        "So far we have considered only lists, but we could also write a loop that performs a calculation a specified number of times by using the `range()` function. Let's consider an example where we use a for loop with `value` as the loop variable and `range(5)` as the collection. What happens when you print `value` at each iteration?"
      ]
    },
    {
      "cell_type": "code",
      "execution_count": 5,
      "metadata": {
        "id": "qgM9SbbA_-DJ",
        "outputId": "413d9d47-1de0-4a94-c1a7-584442b643ce",
        "colab": {
          "base_uri": "https://localhost:8080/"
        }
      },
      "outputs": [
        {
          "output_type": "stream",
          "name": "stdout",
          "text": [
            "0\n",
            "1\n",
            "2\n",
            "3\n",
            "4\n"
          ]
        }
      ],
      "source": [
        "for value in range(5):\n",
        "    print(value)"
      ]
    },
    {
      "cell_type": "markdown",
      "metadata": {
        "id": "cFJz1aRc_-DK"
      },
      "source": [
        "In this case, we used a special function called `range()` to give us a list of 5 numbers `[0, 1, 2, 3, 4]` and then we printed each number in the list to the screen.\n",
        "When given an integer (whole number) as an argument, `range()` will produce a list of numbers with a length equal to the specified `number`.\n",
        "The list starts at `0` and ends with `number - 1`.\n",
        "You can learn a bit more about range by typing `help(range)`."
      ]
    },
    {
      "cell_type": "code",
      "execution_count": 6,
      "metadata": {
        "id": "sKqHCCEq_-DK",
        "outputId": "9f24d72c-c8cc-4846-b807-0d18be6dc624",
        "colab": {
          "base_uri": "https://localhost:8080/"
        }
      },
      "outputs": [
        {
          "output_type": "stream",
          "name": "stdout",
          "text": [
            "Help on class range in module builtins:\n",
            "\n",
            "class range(object)\n",
            " |  range(stop) -> range object\n",
            " |  range(start, stop[, step]) -> range object\n",
            " |  \n",
            " |  Return an object that produces a sequence of integers from start (inclusive)\n",
            " |  to stop (exclusive) by step.  range(i, j) produces i, i+1, i+2, ..., j-1.\n",
            " |  start defaults to 0, and stop is omitted!  range(4) produces 0, 1, 2, 3.\n",
            " |  These are exactly the valid indices for a list of 4 elements.\n",
            " |  When step is given, it specifies the increment (or decrement).\n",
            " |  \n",
            " |  Methods defined here:\n",
            " |  \n",
            " |  __bool__(self, /)\n",
            " |      True if self else False\n",
            " |  \n",
            " |  __contains__(self, key, /)\n",
            " |      Return key in self.\n",
            " |  \n",
            " |  __eq__(self, value, /)\n",
            " |      Return self==value.\n",
            " |  \n",
            " |  __ge__(self, value, /)\n",
            " |      Return self>=value.\n",
            " |  \n",
            " |  __getattribute__(self, name, /)\n",
            " |      Return getattr(self, name).\n",
            " |  \n",
            " |  __getitem__(self, key, /)\n",
            " |      Return self[key].\n",
            " |  \n",
            " |  __gt__(self, value, /)\n",
            " |      Return self>value.\n",
            " |  \n",
            " |  __hash__(self, /)\n",
            " |      Return hash(self).\n",
            " |  \n",
            " |  __iter__(self, /)\n",
            " |      Implement iter(self).\n",
            " |  \n",
            " |  __le__(self, value, /)\n",
            " |      Return self<=value.\n",
            " |  \n",
            " |  __len__(self, /)\n",
            " |      Return len(self).\n",
            " |  \n",
            " |  __lt__(self, value, /)\n",
            " |      Return self<value.\n",
            " |  \n",
            " |  __ne__(self, value, /)\n",
            " |      Return self!=value.\n",
            " |  \n",
            " |  __reduce__(...)\n",
            " |      Helper for pickle.\n",
            " |  \n",
            " |  __repr__(self, /)\n",
            " |      Return repr(self).\n",
            " |  \n",
            " |  __reversed__(...)\n",
            " |      Return a reverse iterator.\n",
            " |  \n",
            " |  count(...)\n",
            " |      rangeobject.count(value) -> integer -- return number of occurrences of value\n",
            " |  \n",
            " |  index(...)\n",
            " |      rangeobject.index(value) -> integer -- return index of value.\n",
            " |      Raise ValueError if the value is not present.\n",
            " |  \n",
            " |  ----------------------------------------------------------------------\n",
            " |  Static methods defined here:\n",
            " |  \n",
            " |  __new__(*args, **kwargs) from builtins.type\n",
            " |      Create and return a new object.  See help(type) for accurate signature.\n",
            " |  \n",
            " |  ----------------------------------------------------------------------\n",
            " |  Data descriptors defined here:\n",
            " |  \n",
            " |  start\n",
            " |  \n",
            " |  step\n",
            " |  \n",
            " |  stop\n",
            "\n"
          ]
        }
      ],
      "source": [
        "help(range)"
      ]
    },
    {
      "cell_type": "markdown",
      "metadata": {
        "id": "xhoBbB76_-DK"
      },
      "source": [
        "#### Check your understanding\n",
        "\n",
        "The program below will print numbers to the screen using the `range()` function.\n",
        "\n",
        "```python\n",
        "for i in range(...):\n",
        "    print(i)\n",
        "```\n",
        "\n",
        "Using the documentation that is produced when you run `help(range)`, what values would you replace the `...` in the parentheses of the `range()` function with to have the following output printed to the screen?\n",
        "\n",
        "```python\n",
        "2\n",
        "5\n",
        "8\n",
        "```\n"
      ]
    },
    {
      "cell_type": "code",
      "execution_count": 7,
      "metadata": {
        "tags": [
          "hide-cell"
        ],
        "id": "HQiJCll0_-DK",
        "outputId": "7f44fb3b-b877-43bb-98ac-0bb4c1fba01f",
        "colab": {
          "base_uri": "https://localhost:8080/"
        }
      },
      "outputs": [
        {
          "output_type": "stream",
          "name": "stdout",
          "text": [
            "2\n",
            "5\n",
            "8\n"
          ]
        }
      ],
      "source": [
        "# Here's one possible solution\n",
        "for i in range(2, 9, 3):\n",
        "    print(i)"
      ]
    },
    {
      "cell_type": "markdown",
      "metadata": {
        "id": "ANXzGzKv_-DK"
      },
      "source": [
        "### Looping over the length of lists using index values\n",
        "\n",
        "Since we already know how to find the length of a list using the `len()` function, we can now take advantage of this knowledge to make our `for` loops more flexible. Starting with the list of numbers below, let's use the `range()` function to loop over the list of numbers and add the value of the loop variable `i` to each value. In addition, we can add a few print statements to display the values of `i` and `numbers[i]` within the loop. In the cell below the for loop, you can print the list of numbers again to see the updated values.\n",
        "\n",
        "```{tip}\n",
        "We will print `numbers[i]` before and after the addition in the `for` loop to see how the values change.\n",
        "```"
      ]
    },
    {
      "cell_type": "code",
      "execution_count": 8,
      "metadata": {
        "id": "JnaGT3Vx_-DK"
      },
      "outputs": [],
      "source": [
        "numbers = [5, 6, 7, 8]"
      ]
    },
    {
      "cell_type": "code",
      "execution_count": 9,
      "metadata": {
        "id": "0IT6rO_V_-DK",
        "outputId": "438dbe5a-209a-401f-a2db-ed5b816767f7",
        "colab": {
          "base_uri": "https://localhost:8080/"
        }
      },
      "outputs": [
        {
          "output_type": "stream",
          "name": "stdout",
          "text": [
            "Value of i: 0\n",
            "Value of numbers[i] before addition: 5\n",
            "Value of numbers[i] after  addition: 5\n",
            "\n",
            "Value of i: 1\n",
            "Value of numbers[i] before addition: 6\n",
            "Value of numbers[i] after  addition: 7\n",
            "\n",
            "Value of i: 2\n",
            "Value of numbers[i] before addition: 7\n",
            "Value of numbers[i] after  addition: 9\n",
            "\n",
            "Value of i: 3\n",
            "Value of numbers[i] before addition: 8\n",
            "Value of numbers[i] after  addition: 11\n",
            "\n"
          ]
        }
      ],
      "source": [
        "for i in range(len(numbers)):\n",
        "    print(f\"Value of i: {i}\")\n",
        "    print(f\"Value of numbers[i] before addition: {numbers[i]}\")\n",
        "    numbers[i] = numbers[i] + i\n",
        "    print(f\"Value of numbers[i] after  addition: {numbers[i]}\")\n",
        "    print(\"\")"
      ]
    },
    {
      "cell_type": "code",
      "execution_count": 10,
      "metadata": {
        "id": "n9wYZupZ_-DL",
        "outputId": "2bf99f5a-bce9-4d2c-bc46-3852427fde56",
        "colab": {
          "base_uri": "https://localhost:8080/"
        }
      },
      "outputs": [
        {
          "output_type": "stream",
          "name": "stdout",
          "text": [
            "[5, 7, 9, 11]\n"
          ]
        }
      ],
      "source": [
        "print(numbers)"
      ]
    },
    {
      "cell_type": "markdown",
      "metadata": {
        "id": "PvbPPFZH_-DL"
      },
      "source": [
        "Let's see what we can observe:\n",
        "\n",
        "1. You can see that because we are using the `range()` function, the value assigned to the loop variable `i` starts with `0` and increases by `1` each time through the loop.\n",
        "2. You can see the value in the list `numbers` at index `i` each time through the loop, and how that value changes when it is increased by adding `i`.\n",
        "3. The value that changes in the list `numbers` in each iteration through this for loop is the value at index `i`, while the other values are not updated. This occurs because we're assigning a new value at `numbers[i]`.\n",
        "4. Note that the values for `numbers[i]` on the right side of the equation is the \"old\" value. That \"old\" value is increased by `i` first, and then stored as the updated value `numbers[i]`.\n",
        "\n",
        "```{note}\n",
        "The variable `i` is commonly used to denote the index variable in loops. Loops can sometimes occur with another loop (referred to as nested loops), in which case other index variables such as `j` or `k` may be used.\n",
        "```"
      ]
    },
    {
      "cell_type": "markdown",
      "metadata": {
        "id": "PLKBv1i__-DL"
      },
      "source": [
        "### Why use index values to loop over a list?\n",
        "\n",
        "Good question. First off, if you want to update individual values in a list you're likely going to need a loop that includes the index values. There are functions such as `enumerate()` that can help, but their use can be somewhat confusing for new programmers. Second, in cases where you have multiple lists that are related to one another, it can be handy to use a loop with the index values to be able to access corresponding locations in each list. For this, let's consider an example with the two lists below."
      ]
    },
    {
      "cell_type": "code",
      "execution_count": null,
      "metadata": {
        "id": "ry2ETyeC_-DL"
      },
      "outputs": [],
      "source": [
        "cities = [\"Helsinki\", \"Stockholm\", \"Oslo\", \"Reykjavik\", \"Copenhagen\"]"
      ]
    },
    {
      "cell_type": "code",
      "execution_count": null,
      "metadata": {
        "id": "WbWKAbGM_-DQ"
      },
      "outputs": [],
      "source": [
        "countries = [\"Finland\", \"Sweden\", \"Norway\", \"Iceland\", \"Denmark\"]"
      ]
    },
    {
      "cell_type": "markdown",
      "metadata": {
        "id": "9700yCs1_-DQ"
      },
      "source": [
        "As you can see we have 5 cities and 5 corresponding counties. Can you print out each pair using a single for loop?"
      ]
    },
    {
      "cell_type": "code",
      "execution_count": null,
      "metadata": {
        "id": "1ad0FkwX_-DQ"
      },
      "outputs": [],
      "source": [
        "for i in range(len(cities)):\n",
        "    print(f\"{cities[i]} is the capital of {countries[i]}\")"
      ]
    },
    {
      "cell_type": "markdown",
      "metadata": {
        "id": "n7m-XJHK_-DQ"
      },
      "source": [
        "Cool. So as you can see, the index `i` is used in this case to access each item in the two lists of cities and countries and allow us to print out the city/country pairs. We'll get more practice with this kind of thing in the exercises for this week.\n",
        "\n",
        "```{note}\n",
        "In the example above, we used the length of the list `cities` in the `range()` function. We could just as easily used the list `countries` to define the values of `i` since both lists are the same length.\n",
        "```"
      ]
    },
    {
      "cell_type": "markdown",
      "metadata": {
        "id": "jS1ddkEj_-DQ"
      },
      "source": [
        "#### Check your understanding\n",
        "\n",
        "What output would the following program produce?\n",
        "\n",
        "```python\n",
        "odd_numbers = [1, 3, 5, 7, 9]\n",
        "even_numbers = [10, 4, 6, 8, 2]\n",
        "for i in range(len(odd_numbers)):\n",
        "    print(odd_numbers[i] + even_numbers[i])\n",
        "```\n"
      ]
    },
    {
      "cell_type": "code",
      "execution_count": 11,
      "metadata": {
        "tags": [
          "hide-cell"
        ],
        "id": "xGIKUVKW_-DQ",
        "outputId": "d02f8361-5cb8-41c8-dc1d-4febe2e576da",
        "colab": {
          "base_uri": "https://localhost:8080/"
        }
      },
      "outputs": [
        {
          "output_type": "stream",
          "name": "stdout",
          "text": [
            "11\n",
            "7\n",
            "11\n",
            "15\n",
            "11\n"
          ]
        }
      ],
      "source": [
        "# Here's the solution\n",
        "odd_numbers = [1, 3, 5, 7, 9]\n",
        "even_numbers = [10, 4, 6, 8, 2]\n",
        "for i in range(len(odd_numbers)):\n",
        "    print(odd_numbers[i] + even_numbers[i])"
      ]
    },
    {
      "cell_type": "code",
      "source": [
        "1"
      ],
      "metadata": {
        "id": "MVdzbMhrBKzw"
      },
      "execution_count": null,
      "outputs": []
    }
  ],
  "metadata": {
    "kernelspec": {
      "display_name": "Python 3 (ipykernel)",
      "language": "python",
      "name": "python3"
    },
    "language_info": {
      "codemirror_mode": {
        "name": "ipython",
        "version": 3
      },
      "file_extension": ".py",
      "mimetype": "text/x-python",
      "name": "python",
      "nbconvert_exporter": "python",
      "pygments_lexer": "ipython3",
      "version": "3.9.7"
    },
    "colab": {
      "provenance": []
    }
  },
  "nbformat": 4,
  "nbformat_minor": 0
}